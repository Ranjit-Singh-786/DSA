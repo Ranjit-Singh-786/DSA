{
 "cells": [
  {
   "cell_type": "markdown",
   "metadata": {},
   "source": [
    "Given a string str, the task is to reverse the order of the words in the given string. Note that str may contain leading or trailing dots(.) or multiple trailing dots(.) between two words. The returned string should only have a single dot(.) separating the words.\n",
    "\n",
    "Examples:\n",
    "\n",
    "Input: str = “i.like.this.program.very.much” \n",
    "Output: str = “much.very.program.this.like.i” \n",
    "\n",
    "\n",
    "Input: str = ”..geeks..for.geeks.” \n",
    "Output: str = “geeks.for.geeks”"
   ]
  },
  {
   "cell_type": "code",
   "execution_count": 2,
   "metadata": {},
   "outputs": [
    {
     "name": "stdout",
     "output_type": "stream",
     "text": [
      "geeks.for.geeks\n"
     ]
    }
   ],
   "source": [
    "def reverse_word(str):\n",
    "    words = [word for word in str.split('.') if word]\n",
    "    words.reverse() \n",
    "    message = '.'.join(words)\n",
    "    return message \n",
    "\n",
    "\n",
    "if __name__ == \"__main__\":\n",
    "    str = \"..geeks..for.geeks.\"\n",
    "    print(reverse_word(str))\n"
   ]
  }
 ],
 "metadata": {
  "kernelspec": {
   "display_name": "Python 3",
   "language": "python",
   "name": "python3"
  },
  "language_info": {
   "codemirror_mode": {
    "name": "ipython",
    "version": 3
   },
   "file_extension": ".py",
   "mimetype": "text/x-python",
   "name": "python",
   "nbconvert_exporter": "python",
   "pygments_lexer": "ipython3",
   "version": "3.12.4"
  }
 },
 "nbformat": 4,
 "nbformat_minor": 2
}
