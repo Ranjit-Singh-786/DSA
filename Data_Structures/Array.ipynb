{
 "cells": [
  {
   "cell_type": "code",
   "execution_count": 1,
   "metadata": {},
   "outputs": [],
   "source": [
    "import ctypes"
   ]
  },
  {
   "cell_type": "code",
   "execution_count": 144,
   "metadata": {},
   "outputs": [],
   "source": [
    "class Mylist:\n",
    "    def __init__(self,):\n",
    "        self.size = 1\n",
    "        self.n = 0\n",
    "        self.A = self.make_array(self.size)\n",
    "\n",
    "    ## function to create array\n",
    "    def make_array(self,size):\n",
    "        return (size*ctypes.py_object)()\n",
    "\n",
    "    def __len__(self):\n",
    "        return self.n\n",
    "\n",
    "    def append(self,item):\n",
    "\n",
    "        #condition for vacant\n",
    "        if self.n == self.size:\n",
    "            ## array is full\n",
    "            new_capacity = self.size * 2\n",
    "            self.resize_array(new_capacity)\n",
    "\n",
    "        self.A[self.n] = item\n",
    "        self.n = self.n+1\n",
    "\n",
    "    def resize_array(self,new_capacity):\n",
    "        #creating a new array with two times bigger capacity, if it is not vacant\n",
    "        B = self.make_array(new_capacity)\n",
    "        self.size = new_capacity\n",
    "        #copying the element\n",
    "        for i in range(self.n):\n",
    "            B[i] = self.A[i]\n",
    "        self.A = B\n",
    "\n",
    "    # to print the array element\n",
    "    def __str__(self):\n",
    "        result = ''\n",
    "        for i in range(self.n):\n",
    "            result = result + str(self.A[i]) + ','\n",
    "\n",
    "        return '[' + result[:-1] + ']'\n",
    "\n",
    "    ## to get element by indexing\n",
    "    def __getitem__(self,index):\n",
    "        return self.A[index]\n",
    "\n",
    "    def find(self,item):\n",
    "\n",
    "        for i in range(self.n):\n",
    "            if self.A[i] == item:\n",
    "                return i\n",
    "        return 'ValueError - not in list'\n",
    "    ## delete by position\n",
    "    def __delitem__(self,pos):\n",
    "    # delete pos wala item\n",
    "        if pos < 0 and pos > len(self.A):\n",
    "            print('plz pass the valid index')\n",
    "        if 0<= pos < self.n:\n",
    "            for i in range(pos,self.n-1):\n",
    "                self.A[i] = self.A[i+1]\n",
    "\n",
    "            self.n = self.n - 1\n",
    "    ## to remove element by element\n",
    "    def remove(self,item):\n",
    "        # search and get pos\n",
    "        pos = self.find(item)\n",
    "        if type(pos) == int:\n",
    "            # delete\n",
    "            self.__delitem__(pos)\n",
    "        else:\n",
    "            return pos\n",
    "\n",
    "    \n",
    "    def insert(self,pos , item):\n",
    "\n",
    "        if self.n == self.size:\n",
    "            self.make_array(self.size*2)\n",
    "\n",
    "        # for i in range\n",
    "\n",
    "arr = Mylist()"
   ]
  },
  {
   "cell_type": "code",
   "execution_count": 145,
   "metadata": {},
   "outputs": [
    {
     "name": "stdout",
     "output_type": "stream",
     "text": [
      "length of array:  4 \n",
      "\n",
      "array is :  [10,12,ranjit,singh] \n",
      "\n",
      "array after removed 12 :  [10,ranjit,singh] \n",
      "\n",
      "array after performing del operation on 1st position :  [10,singh] \n",
      "\n",
      "find operation 'singh' : 1\n"
     ]
    }
   ],
   "source": [
    "arr.append(10)\n",
    "arr.append(12)\n",
    "arr.append('ranjit')\n",
    "arr.append('singh')\n",
    "print(\"length of array: \",len(arr),'\\n')\n",
    "print(\"array is : \",arr,'\\n')\n",
    "arr.remove(12)\n",
    "print(\"array after removed 12 : \",arr,'\\n')\n",
    "del arr[1]\n",
    "print(\"array after performing del operation on 1st position : \",arr,'\\n')\n",
    "print(\"find operation 'singh' :\",arr.find('singh'))"
   ]
  },
  {
   "cell_type": "code",
   "execution_count": 141,
   "metadata": {},
   "outputs": [],
   "source": [
    "del arr[20]"
   ]
  },
  {
   "cell_type": "code",
   "execution_count": 142,
   "metadata": {},
   "outputs": [
    {
     "name": "stdout",
     "output_type": "stream",
     "text": [
      "[10,singh]\n"
     ]
    }
   ],
   "source": [
    "print(arr)"
   ]
  },
  {
   "cell_type": "code",
   "execution_count": 109,
   "metadata": {},
   "outputs": [
    {
     "ename": "TypeError",
     "evalue": "'list' object cannot be interpreted as an integer",
     "output_type": "error",
     "traceback": [
      "\u001b[1;31m---------------------------------------------------------------------------\u001b[0m",
      "\u001b[1;31mTypeError\u001b[0m                                 Traceback (most recent call last)",
      "Cell \u001b[1;32mIn[109], line 2\u001b[0m\n\u001b[0;32m      1\u001b[0m a  \u001b[38;5;241m=\u001b[39m [\u001b[38;5;241m10\u001b[39m,\u001b[38;5;241m12\u001b[39m,\u001b[38;5;241m1\u001b[39m,\u001b[38;5;241m3\u001b[39m,\u001b[38;5;241m45\u001b[39m,\u001b[38;5;241m45\u001b[39m,\u001b[38;5;241m63\u001b[39m]\n\u001b[1;32m----> 2\u001b[0m \u001b[38;5;28;01mfor\u001b[39;00m i \u001b[38;5;129;01min\u001b[39;00m \u001b[38;5;28;43mrange\u001b[39;49m\u001b[43m(\u001b[49m\u001b[43ma\u001b[49m\u001b[43m)\u001b[49m:\n\u001b[0;32m      3\u001b[0m     \u001b[38;5;28mprint\u001b[39m(i)\n",
      "\u001b[1;31mTypeError\u001b[0m: 'list' object cannot be interpreted as an integer"
     ]
    }
   ],
   "source": [
    "a  = [10,12,1,3,45,45,63]\n",
    "for i in range(a):\n",
    "    print(i)"
   ]
  }
 ],
 "metadata": {
  "kernelspec": {
   "display_name": "Python 3",
   "language": "python",
   "name": "python3"
  },
  "language_info": {
   "codemirror_mode": {
    "name": "ipython",
    "version": 3
   },
   "file_extension": ".py",
   "mimetype": "text/x-python",
   "name": "python",
   "nbconvert_exporter": "python",
   "pygments_lexer": "ipython3",
   "version": "3.11.5"
  }
 },
 "nbformat": 4,
 "nbformat_minor": 2
}
