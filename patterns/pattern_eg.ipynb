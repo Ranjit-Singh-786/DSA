{
 "cells": [
  {
   "cell_type": "raw",
   "metadata": {
    "vscode": {
     "languageId": "raw"
    }
   },
   "source": [
    "Right half pyramind \n",
    "*\n",
    "**\n",
    "***\n",
    "****\n",
    "*****\n",
    "******"
   ]
  },
  {
   "cell_type": "code",
   "execution_count": 3,
   "metadata": {},
   "outputs": [
    {
     "name": "stdout",
     "output_type": "stream",
     "text": [
      "* \n",
      "* * \n",
      "* * * \n",
      "* * * * \n",
      "* * * * * \n"
     ]
    }
   ],
   "source": [
    "for i in range(1,6):\n",
    "    for j in range(0,i):\n",
    "        print(\"*\",end=\" \")\n",
    "    print()"
   ]
  },
  {
   "cell_type": "code",
   "execution_count": 35,
   "metadata": {},
   "outputs": [
    {
     "name": "stdout",
     "output_type": "stream",
     "text": [
      "\n",
      "* \n",
      "* * \n",
      "* * * \n",
      "* * * * \n",
      "* * * * * \n"
     ]
    }
   ],
   "source": [
    "for i in range(6):\n",
    "    print(\"* \"*i)"
   ]
  },
  {
   "cell_type": "raw",
   "metadata": {
    "vscode": {
     "languageId": "raw"
    }
   },
   "source": [
    "# inverted right half pyramid \n",
    "   A               B               C\n",
    "* * * * *   |   1 2 3 4 5   |   A B C D E \n",
    "* * * *     |   1 2 3 4     |   A B C D\n",
    "* * *       |   1 2 3       |   A B C\n",
    "* *         |   1 2         |   A B\n",
    "*           |   1           |   A\n"
   ]
  },
  {
   "cell_type": "code",
   "execution_count": 40,
   "metadata": {},
   "outputs": [
    {
     "name": "stdout",
     "output_type": "stream",
     "text": [
      "*****\n",
      "****\n",
      "***\n",
      "**\n",
      "*\n",
      "\n"
     ]
    }
   ],
   "source": [
    "#              A\n",
    "def inverted_right_half_pramid(n):\n",
    "    for i in range(0,n+1):\n",
    "        for j in range(1,(n-i)+1):\n",
    "            print(\"*\",end=\"\")\n",
    "        print()\n",
    "\n",
    "inverted_right_half_pramid(5)  "
   ]
  },
  {
   "cell_type": "code",
   "execution_count": null,
   "metadata": {},
   "outputs": [
    {
     "name": "stdout",
     "output_type": "stream",
     "text": [
      "12345\n",
      "1234\n",
      "123\n",
      "12\n",
      "1\n",
      "\n"
     ]
    }
   ],
   "source": [
    "  #            B\n",
    "def inverted_right_half_pramid(n):\n",
    "    for i in range(0,n+1):\n",
    "        for j in range(1,(n-i)+1):\n",
    "            print(j,end=\"\")\n",
    "        print()\n",
    "\n",
    "inverted_right_half_pramid(5)       "
   ]
  },
  {
   "cell_type": "code",
   "execution_count": null,
   "metadata": {},
   "outputs": [],
   "source": [
    "#              C  \n",
    "def inverted_right_half_pramid(n):\n",
    "    pass \n",
    "\n",
    "inverted_right_half_pramid(5)  "
   ]
  },
  {
   "cell_type": "raw",
   "metadata": {
    "vscode": {
     "languageId": "raw"
    }
   },
   "source": [
    "Left Half pyramid \n",
    "         *\n",
    "       * *\n",
    "     * * *\n",
    "   * * * *"
   ]
  },
  {
   "cell_type": "code",
   "execution_count": 44,
   "metadata": {},
   "outputs": [
    {
     "name": "stdout",
     "output_type": "stream",
     "text": [
      "    *\n",
      "   **\n",
      "  ***\n",
      " ****\n",
      "*****\n"
     ]
    }
   ],
   "source": [
    "row = 5\n",
    "for i in range(1,row+1):\n",
    "    print(' ' * (row - i) + '*' * i)"
   ]
  },
  {
   "cell_type": "raw",
   "metadata": {},
   "source": [
    "A\n",
    "B B  \n",
    "C C C \n",
    "D D D D \n",
    "E E E E E "
   ]
  },
  {
   "cell_type": "code",
   "execution_count": 40,
   "metadata": {},
   "outputs": [
    {
     "name": "stdout",
     "output_type": "stream",
     "text": [
      "A \n",
      "B B \n",
      "C C C \n",
      "D D D D \n",
      "E E E E E \n",
      "F F F F F F \n"
     ]
    }
   ],
   "source": [
    "def char_pattern(no_of_char):\n",
    "    num = 65 \n",
    "    for i in range(0,no_of_char):\n",
    "        char = chr(num) \n",
    "        for j in range(0,i+1):\n",
    "            print(char,end=\" \")\n",
    "        num += 1 \n",
    "        print()\n",
    "char_pattern(no_of_char=6)"
   ]
  },
  {
   "cell_type": "raw",
   "metadata": {
    "vscode": {
     "languageId": "raw"
    }
   },
   "source": [
    "    *\n",
    "   ***\n",
    "  *****\n",
    " *******\n",
    "*********"
   ]
  },
  {
   "cell_type": "code",
   "execution_count": null,
   "metadata": {},
   "outputs": [
    {
     "name": "stdout",
     "output_type": "stream",
     "text": [
      "    *\n",
      "   ***\n",
      "  *****\n",
      " *******\n",
      "*********\n"
     ]
    }
   ],
   "source": [
    "def full_pyramid(n):\n",
    "    for i in range(1,n+1):\n",
    "        for j in range(n-i):\n",
    "            print(\" \",end=\"\")\n",
    "        for k in range(1,2*i):\n",
    "            print(\"*\",end=\"\")\n",
    "        print()\n",
    "\n",
    "full_pyramid(5)       "
   ]
  },
  {
   "cell_type": "code",
   "execution_count": null,
   "metadata": {},
   "outputs": [
    {
     "name": "stdout",
     "output_type": "stream",
     "text": [
      "*********\n",
      " *******\n",
      "  *****\n",
      "   ***\n",
      "    *\n",
      "     \n"
     ]
    }
   ],
   "source": [
    "def inverted_full_pyramid(n):\n",
    "    for i in range(0,n+1):\n",
    "\n",
    "        for j in range(0,i):\n",
    "            print(\" \",end=\"\")\n",
    "\n",
    "        for k in range(1,(2*n)-i*2):\n",
    "            print(\"*\",end=\"\")\n",
    "        print()\n",
    "\n",
    "inverted_full_pyramid(5)  "
   ]
  },
  {
   "cell_type": "code",
   "execution_count": null,
   "metadata": {},
   "outputs": [
    {
     "name": "stdout",
     "output_type": "stream",
     "text": [
      "*********\n",
      " *********\n",
      "  *********\n",
      "   *********\n",
      "    *********\n"
     ]
    }
   ],
   "source": [
    "def Rhombus_pattern(n):\n",
    "    for i in range(1,n+1):\n",
    "        \n",
    "        # for space\n",
    "        for j in range(0,i-1):\n",
    "            print(\" \",end=\"\")\n",
    "\n",
    "        # for *\n",
    "        for k in range(1,2*n):\n",
    "            print(\"*\",end=\"\")\n",
    "        print()\n",
    "\n",
    "Rhombus_pattern(5)  "
   ]
  }
 ],
 "metadata": {
  "kernelspec": {
   "display_name": "Python 3",
   "language": "python",
   "name": "python3"
  },
  "language_info": {
   "codemirror_mode": {
    "name": "ipython",
    "version": 3
   },
   "file_extension": ".py",
   "mimetype": "text/x-python",
   "name": "python",
   "nbconvert_exporter": "python",
   "pygments_lexer": "ipython3",
   "version": "3.12.4"
  }
 },
 "nbformat": 4,
 "nbformat_minor": 2
}
